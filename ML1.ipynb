{
 "cells": [
  {
   "cell_type": "code",
   "execution_count": 50,
   "metadata": {},
   "outputs": [],
   "source": [
    "import pandas as pd\n",
    "import quandl as Q\n",
    "import math,datetime\n",
    "import numpy as np\n",
    "from sklearn.model_selection import train_test_split\n",
    "from sklearn.linear_model import LinearRegression\n",
    "from sklearn.linear_model import LogisticRegression\n",
    "from sklearn import preprocessing, svm\n",
    "import matplotlib.pyplot as plt\n",
    "from matplotlib import style\n",
    "style.use(\"ggplot\")\n",
    "import pickle"
   ]
  },
  {
   "cell_type": "code",
   "execution_count": 2,
   "metadata": {},
   "outputs": [],
   "source": [
    "df= Q.get(\"WIKI/GOOGL\")"
   ]
  },
  {
   "cell_type": "code",
   "execution_count": 3,
   "metadata": {},
   "outputs": [],
   "source": [
    "df=df[[\"Adj. Open\",\"Adj. High\",\"Adj. Low\",\"Adj. Close\",\"Adj. Volume\"]]\n",
    "df[\"HL_Pct\"] = (df[\"Adj. High\"] - df[\"Adj. Low\"]) * 100/df[\"Adj. Low\"]\n",
    "df[\"Pct_change\"] = (df[\"Adj. Close\"] - df[\"Adj. Open\"]) * 100/df[\"Adj. Open\"]"
   ]
  },
  {
   "cell_type": "code",
   "execution_count": 10,
   "metadata": {},
   "outputs": [
    {
     "data": {
      "text/plain": [
       "34"
      ]
     },
     "execution_count": 10,
     "metadata": {},
     "output_type": "execute_result"
    }
   ],
   "source": [
    "df = df[[\"HL_Pct\",\"Pct_change\",\"Adj. Volume\",\"Adj. Close\"]]\n",
    "forecast_col = \"Adj. Close\"\n",
    "df.fillna(-99,inplace=True)\n",
    "forecast = int(math.ceil(0.01*len(df)))\n",
    "forecast"
   ]
  },
  {
   "cell_type": "code",
   "execution_count": 20,
   "metadata": {},
   "outputs": [
    {
     "data": {
      "text/plain": [
       "array([ 69.63997192,  69.0782379 ,  67.83941377, ..., 792.45      ,\n",
       "       808.01      , 807.77      ])"
      ]
     },
     "execution_count": 20,
     "metadata": {},
     "output_type": "execute_result"
    }
   ],
   "source": [
    "df[\"label_col\"] = df[forecast_col].shift(-forecast)\n",
    "#print(df)\n",
    "x=np.array(df.drop([\"label_col\"],1))\n",
    "x = x[:-forecast]\n",
    "x_lately = x[-forecast:]\n",
    "df.dropna(inplace=True)\n",
    "y = np.array(df[\"label_col\"])\n",
    "#feature_cols = [\"HL_Pct\",\"Pct_change\",\"Adj. Volume\"]\n",
    "y"
   ]
  },
  {
   "cell_type": "code",
   "execution_count": 24,
   "metadata": {},
   "outputs": [
    {
     "name": "stdout",
     "output_type": "stream",
     "text": [
      "(2466, 4) (2466,)\n"
     ]
    }
   ],
   "source": [
    "#x= df[\"HL_Pct\",\"Pct_change\",\"Adj. Volume\"]\n",
    "#y =df[\"label_col\"]\n",
    "x_train, x_test, y_train, y_test = train_test_split(x,y ,test_size = 0.2)\n",
    "print(x_train.shape,y_train.shape)\n"
   ]
  },
  {
   "cell_type": "code",
   "execution_count": 51,
   "metadata": {},
   "outputs": [],
   "source": [
    "clf =  LinearRegression(n_jobs=-1)\n",
    "\n",
    "clf.fit(x,y)\n",
    "with open(\"linearregression.pickle\",\"wb\") as f:\n",
    "    pickle.dump(clf,f)"
   ]
  },
  {
   "cell_type": "code",
   "execution_count": 52,
   "metadata": {},
   "outputs": [],
   "source": [
    "pickle_in = open(\"linearregression.pickle\",\"rb\")\n",
    "clf=pickle.load(pickle_in)"
   ]
  },
  {
   "cell_type": "code",
   "execution_count": 53,
   "metadata": {},
   "outputs": [
    {
     "data": {
      "text/plain": [
       "0.9685183386031597"
      ]
     },
     "execution_count": 53,
     "metadata": {},
     "output_type": "execute_result"
    }
   ],
   "source": [
    "acc = clf.score(x_test,y_test)\n",
    "acc "
   ]
  },
  {
   "cell_type": "markdown",
   "metadata": {},
   "source": []
  },
  {
   "cell_type": "code",
   "execution_count": 29,
   "metadata": {},
   "outputs": [
    {
     "name": "stderr",
     "output_type": "stream",
     "text": [
      "c:\\users\\ros\\appdata\\local\\programs\\python\\python37\\lib\\site-packages\\sklearn\\svm\\base.py:196: FutureWarning: The default value of gamma will change from 'auto' to 'scale' in version 0.22 to account better for unscaled features. Set gamma explicitly to 'auto' or 'scale' to avoid this warning.\n",
      "  \"avoid this warning.\", FutureWarning)\n"
     ]
    },
    {
     "data": {
      "text/plain": [
       "-0.12160791572371575"
      ]
     },
     "execution_count": 29,
     "metadata": {},
     "output_type": "execute_result"
    }
   ],
   "source": [
    "clf2 =  svm.SVR()\n",
    "\n",
    "clf2.fit(x_train,y_train)\n",
    "acc = clf2.score(x_test,y_test)\n",
    "acc "
   ]
  },
  {
   "cell_type": "code",
   "execution_count": 30,
   "metadata": {},
   "outputs": [
    {
     "data": {
      "text/plain": [
       "array([816.26841415, 808.14407721, 810.23349531, 806.53378734,\n",
       "       809.06764894, 807.38529022, 809.4957051 , 806.73340174,\n",
       "       819.57093771, 814.8893462 , 818.2304379 , 810.17377411,\n",
       "       810.80260754, 812.91752041, 826.35669992, 833.08414775,\n",
       "       827.41116836, 830.14167436, 841.47018477, 833.37341581,\n",
       "       827.34429413, 822.0569823 , 822.45069238, 814.57514844,\n",
       "       810.18926452, 792.35808815, 787.81046592, 786.41075471,\n",
       "       807.62343572, 817.13872191, 809.72899688, 780.16795465,\n",
       "       776.75704801, 756.13261517])"
      ]
     },
     "execution_count": 30,
     "metadata": {},
     "output_type": "execute_result"
    }
   ],
   "source": [
    "forecast_value = clf.predict(x_lately)\n",
    "forecast_value"
   ]
  },
  {
   "cell_type": "code",
   "execution_count": 43,
   "metadata": {},
   "outputs": [
    {
     "name": "stdout",
     "output_type": "stream",
     "text": [
      "                     HL_Pct  Pct_change  Adj. Volume  Adj. Close  label_col  \\\n",
      "Date                                                                          \n",
      "2016-12-14 01:00:00     NaN         NaN          NaN         NaN        NaN   \n",
      "2016-12-15 01:00:00     NaN         NaN          NaN         NaN        NaN   \n",
      "2016-12-16 01:00:00     NaN         NaN          NaN         NaN        NaN   \n",
      "2016-12-17 01:00:00     NaN         NaN          NaN         NaN        NaN   \n",
      "2016-12-18 01:00:00     NaN         NaN          NaN         NaN        NaN   \n",
      "\n",
      "                     forecastLM  \n",
      "Date                             \n",
      "2016-12-14 01:00:00         NaN  \n",
      "2016-12-15 01:00:00         NaN  \n",
      "2016-12-16 01:00:00         NaN  \n",
      "2016-12-17 01:00:00         NaN  \n",
      "2016-12-18 01:00:00         NaN  \n",
      "                     HL_Pct  Pct_change  Adj. Volume  Adj. Close  label_col  \\\n",
      "Date                                                                          \n",
      "2017-01-17 02:00:00     NaN         NaN          NaN         NaN        NaN   \n",
      "2017-01-18 02:00:00     NaN         NaN          NaN         NaN        NaN   \n",
      "2017-01-19 02:00:00     NaN         NaN          NaN         NaN        NaN   \n",
      "2017-01-20 02:00:00     NaN         NaN          NaN         NaN        NaN   \n",
      "2017-01-21 02:00:00     NaN         NaN          NaN         NaN        NaN   \n",
      "\n",
      "                     forecastLM  \n",
      "Date                             \n",
      "2017-01-17 02:00:00  817.138722  \n",
      "2017-01-18 02:00:00  809.728997  \n",
      "2017-01-19 02:00:00  780.167955  \n",
      "2017-01-20 02:00:00  776.757048  \n",
      "2017-01-21 02:00:00  756.132615  \n"
     ]
    }
   ],
   "source": [
    "last_date=df.iloc[-1].name\n",
    "unix = last_date.timestamp()\n",
    "next_unix = unix + 86400\n",
    "df[\"forecastLM\"] = np.nan\n",
    "print(df.tail())\n",
    "for i in forecast_value:\n",
    "    next_date=datetime.datetime.fromtimestamp(next_unix)\n",
    "    next_unix += 86400\n",
    "    df.loc[next_date]= [np.nan for _ in range(len(df.columns)-1)] + [i]\n",
    "    \n",
    "print(df.tail())"
   ]
  },
  {
   "cell_type": "code",
   "execution_count": 59,
   "metadata": {},
   "outputs": [
    {
     "data": {
      "image/png": "[encoded data removed]",
      "text/plain": [
       "<Figure size 432x288 with 1 Axes>"
      ]
     },
     "metadata": {},
     "output_type": "display_data"
    }
   ],
   "source": [
    "df[\"Adj. Close\"].plot()\n",
    "df[\"forecastLM\"].plot()\n",
    "plt.legend(loc=4)\n",
    "plt.xlabel(\"Date\")\n",
    "plt.ylabel(\"price\")\n",
    "plt.show()"
   ]
  },
  {
   "cell_type": "code",
   "execution_count": null,
   "metadata": {},
   "outputs": [],
   "source": []
  }
 ],
 "metadata": {
  "kernelspec": {
   "display_name": "Python 3",
   "language": "python",
   "name": "python3"
  },
  "language_info": {
   "codemirror_mode": {
    "name": "ipython",
    "version": 3
   },
   "file_extension": ".py",
   "mimetype": "text/x-python",
   "name": "python",
   "nbconvert_exporter": "python",
   "pygments_lexer": "ipython3",
   "version": "3.7.1"
  }
 },
 "nbformat": 4,
 "nbformat_minor": 2
}
